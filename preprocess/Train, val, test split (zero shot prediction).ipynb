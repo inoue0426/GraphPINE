{
 "cells": [
  {
   "cell_type": "code",
   "execution_count": 1,
   "id": "20989762",
   "metadata": {},
   "outputs": [],
   "source": [
    "import matplotlib.pyplot as plt\n",
    "import numpy as np\n",
    "import pandas as pd\n",
    "import torch\n",
    "from sklearn.model_selection import train_test_split"
   ]
  },
  {
   "cell_type": "markdown",
   "id": "eba1313b",
   "metadata": {},
   "source": [
    "# Validation split (Zero shot prediction)\n",
    "\n",
    "- This code prepares a dataset for zero-shot prediction in drug response modeling:\n",
    "    - Loads and processes a drug response dataset\n",
    "    - Splits data into train, validation, and test sets\n",
    "    - Ensures no overlap of cell lines or compounds between train and test sets\n",
    "    - Creates features (X) and labels (y) for each set\n",
    "    - Saves processed data as CSV files and NumPy arrays\n",
    "- Key aspects of the zero-shot prediction setup:\n",
    "    - Completely different cell lines and compounds in train vs. test sets\n",
    "    - Evaluates model's ability to predict for unseen cell-compound combinations\n",
    "    - Tests generalization to novel cell lines and compounds"
   ]
  },
  {
   "cell_type": "code",
   "execution_count": 2,
   "id": "668b4309",
   "metadata": {},
   "outputs": [
    {
     "data": {
      "text/html": [
       "<div>\n",
       "<style scoped>\n",
       "    .dataframe tbody tr th:only-of-type {\n",
       "        vertical-align: middle;\n",
       "    }\n",
       "\n",
       "    .dataframe tbody tr th {\n",
       "        vertical-align: top;\n",
       "    }\n",
       "\n",
       "    .dataframe thead th {\n",
       "        text-align: right;\n",
       "    }\n",
       "</style>\n",
       "<table border=\"1\" class=\"dataframe\">\n",
       "  <thead>\n",
       "    <tr style=\"text-align: right;\">\n",
       "      <th></th>\n",
       "      <th>NSC</th>\n",
       "      <th>CELL_NAME_nci</th>\n",
       "      <th>HI_CONCENTRATION</th>\n",
       "    </tr>\n",
       "  </thead>\n",
       "  <tbody>\n",
       "    <tr>\n",
       "      <th>0</th>\n",
       "      <td>17</td>\n",
       "      <td>786_0</td>\n",
       "      <td>0.0001</td>\n",
       "    </tr>\n",
       "    <tr>\n",
       "      <th>1</th>\n",
       "      <td>17</td>\n",
       "      <td>A498</td>\n",
       "      <td>0.0001</td>\n",
       "    </tr>\n",
       "    <tr>\n",
       "      <th>2</th>\n",
       "      <td>17</td>\n",
       "      <td>A549</td>\n",
       "      <td>0.0001</td>\n",
       "    </tr>\n",
       "    <tr>\n",
       "      <th>3</th>\n",
       "      <td>17</td>\n",
       "      <td>ACHN</td>\n",
       "      <td>0.0001</td>\n",
       "    </tr>\n",
       "    <tr>\n",
       "      <th>4</th>\n",
       "      <td>17</td>\n",
       "      <td>BT_549</td>\n",
       "      <td>0.0001</td>\n",
       "    </tr>\n",
       "    <tr>\n",
       "      <th>...</th>\n",
       "      <td>...</td>\n",
       "      <td>...</td>\n",
       "      <td>...</td>\n",
       "    </tr>\n",
       "    <tr>\n",
       "      <th>219999</th>\n",
       "      <td>849222</td>\n",
       "      <td>T47D</td>\n",
       "      <td>0.0001</td>\n",
       "    </tr>\n",
       "    <tr>\n",
       "      <th>220000</th>\n",
       "      <td>849222</td>\n",
       "      <td>TK_10</td>\n",
       "      <td>0.0001</td>\n",
       "    </tr>\n",
       "    <tr>\n",
       "      <th>220001</th>\n",
       "      <td>849222</td>\n",
       "      <td>U251</td>\n",
       "      <td>0.0001</td>\n",
       "    </tr>\n",
       "    <tr>\n",
       "      <th>220002</th>\n",
       "      <td>849222</td>\n",
       "      <td>UACC_257</td>\n",
       "      <td>0.0001</td>\n",
       "    </tr>\n",
       "    <tr>\n",
       "      <th>220003</th>\n",
       "      <td>849222</td>\n",
       "      <td>UACC_62</td>\n",
       "      <td>0.0001</td>\n",
       "    </tr>\n",
       "  </tbody>\n",
       "</table>\n",
       "<p>220004 rows × 3 columns</p>\n",
       "</div>"
      ],
      "text/plain": [
       "           NSC CELL_NAME_nci  HI_CONCENTRATION\n",
       "0           17         786_0            0.0001\n",
       "1           17          A498            0.0001\n",
       "2           17          A549            0.0001\n",
       "3           17          ACHN            0.0001\n",
       "4           17        BT_549            0.0001\n",
       "...        ...           ...               ...\n",
       "219999  849222          T47D            0.0001\n",
       "220000  849222         TK_10            0.0001\n",
       "220001  849222          U251            0.0001\n",
       "220002  849222      UACC_257            0.0001\n",
       "220003  849222       UACC_62            0.0001\n",
       "\n",
       "[220004 rows x 3 columns]"
      ]
     },
     "execution_count": 2,
     "metadata": {},
     "output_type": "execute_result"
    }
   ],
   "source": [
    "df = pd.read_csv(\"../data/dataset.csv\", index_col=0)\n",
    "df"
   ]
  },
  {
   "cell_type": "code",
   "execution_count": 3,
   "id": "f2d00c49",
   "metadata": {},
   "outputs": [
    {
     "data": {
      "text/html": [
       "<div>\n",
       "<style scoped>\n",
       "    .dataframe tbody tr th:only-of-type {\n",
       "        vertical-align: middle;\n",
       "    }\n",
       "\n",
       "    .dataframe tbody tr th {\n",
       "        vertical-align: top;\n",
       "    }\n",
       "\n",
       "    .dataframe thead th {\n",
       "        text-align: right;\n",
       "    }\n",
       "</style>\n",
       "<table border=\"1\" class=\"dataframe\">\n",
       "  <thead>\n",
       "    <tr style=\"text-align: right;\">\n",
       "      <th></th>\n",
       "      <th>NSC</th>\n",
       "      <th>gene</th>\n",
       "      <th>PMID_count</th>\n",
       "      <th>log</th>\n",
       "      <th>Y</th>\n",
       "      <th>log_Y</th>\n",
       "      <th>CID</th>\n",
       "    </tr>\n",
       "  </thead>\n",
       "  <tbody>\n",
       "    <tr>\n",
       "      <th>0</th>\n",
       "      <td>3188.0</td>\n",
       "      <td>AAK1</td>\n",
       "      <td>0.0</td>\n",
       "      <td>0.0</td>\n",
       "      <td>0.5</td>\n",
       "      <td>0.5</td>\n",
       "      <td>4.0</td>\n",
       "    </tr>\n",
       "    <tr>\n",
       "      <th>1</th>\n",
       "      <td>3188.0</td>\n",
       "      <td>ADRB1</td>\n",
       "      <td>0.0</td>\n",
       "      <td>0.0</td>\n",
       "      <td>0.5</td>\n",
       "      <td>0.5</td>\n",
       "      <td>4.0</td>\n",
       "    </tr>\n",
       "    <tr>\n",
       "      <th>2</th>\n",
       "      <td>3188.0</td>\n",
       "      <td>BMP2K</td>\n",
       "      <td>0.0</td>\n",
       "      <td>0.0</td>\n",
       "      <td>0.5</td>\n",
       "      <td>0.5</td>\n",
       "      <td>4.0</td>\n",
       "    </tr>\n",
       "    <tr>\n",
       "      <th>5</th>\n",
       "      <td>3188.0</td>\n",
       "      <td>CACNB3</td>\n",
       "      <td>0.0</td>\n",
       "      <td>0.0</td>\n",
       "      <td>0.5</td>\n",
       "      <td>0.5</td>\n",
       "      <td>4.0</td>\n",
       "    </tr>\n",
       "    <tr>\n",
       "      <th>10</th>\n",
       "      <td>3188.0</td>\n",
       "      <td>CREBBP</td>\n",
       "      <td>0.0</td>\n",
       "      <td>0.0</td>\n",
       "      <td>0.5</td>\n",
       "      <td>0.5</td>\n",
       "      <td>4.0</td>\n",
       "    </tr>\n",
       "    <tr>\n",
       "      <th>...</th>\n",
       "      <td>...</td>\n",
       "      <td>...</td>\n",
       "      <td>...</td>\n",
       "      <td>...</td>\n",
       "      <td>...</td>\n",
       "      <td>...</td>\n",
       "      <td>...</td>\n",
       "    </tr>\n",
       "    <tr>\n",
       "      <th>1038831</th>\n",
       "      <td>852991.0</td>\n",
       "      <td>BRAF</td>\n",
       "      <td>0.0</td>\n",
       "      <td>0.0</td>\n",
       "      <td>0.5</td>\n",
       "      <td>0.5</td>\n",
       "      <td>156297592.0</td>\n",
       "    </tr>\n",
       "    <tr>\n",
       "      <th>1038832</th>\n",
       "      <td>852991.0</td>\n",
       "      <td>NRAS</td>\n",
       "      <td>0.0</td>\n",
       "      <td>0.0</td>\n",
       "      <td>0.5</td>\n",
       "      <td>0.5</td>\n",
       "      <td>156297592.0</td>\n",
       "    </tr>\n",
       "    <tr>\n",
       "      <th>1038833</th>\n",
       "      <td>841442.0</td>\n",
       "      <td>ATM</td>\n",
       "      <td>0.0</td>\n",
       "      <td>0.0</td>\n",
       "      <td>0.5</td>\n",
       "      <td>0.5</td>\n",
       "      <td>156487652.0</td>\n",
       "    </tr>\n",
       "    <tr>\n",
       "      <th>1038834</th>\n",
       "      <td>841442.0</td>\n",
       "      <td>CDK12</td>\n",
       "      <td>0.0</td>\n",
       "      <td>0.0</td>\n",
       "      <td>0.5</td>\n",
       "      <td>0.5</td>\n",
       "      <td>156487652.0</td>\n",
       "    </tr>\n",
       "    <tr>\n",
       "      <th>1038835</th>\n",
       "      <td>841442.0</td>\n",
       "      <td>RAD51C</td>\n",
       "      <td>0.0</td>\n",
       "      <td>0.0</td>\n",
       "      <td>0.5</td>\n",
       "      <td>0.5</td>\n",
       "      <td>156487652.0</td>\n",
       "    </tr>\n",
       "  </tbody>\n",
       "</table>\n",
       "<p>621767 rows × 7 columns</p>\n",
       "</div>"
      ],
      "text/plain": [
       "              NSC    gene  PMID_count  log    Y  log_Y          CID\n",
       "0          3188.0    AAK1         0.0  0.0  0.5    0.5          4.0\n",
       "1          3188.0   ADRB1         0.0  0.0  0.5    0.5          4.0\n",
       "2          3188.0   BMP2K         0.0  0.0  0.5    0.5          4.0\n",
       "5          3188.0  CACNB3         0.0  0.0  0.5    0.5          4.0\n",
       "10         3188.0  CREBBP         0.0  0.0  0.5    0.5          4.0\n",
       "...           ...     ...         ...  ...  ...    ...          ...\n",
       "1038831  852991.0    BRAF         0.0  0.0  0.5    0.5  156297592.0\n",
       "1038832  852991.0    NRAS         0.0  0.0  0.5    0.5  156297592.0\n",
       "1038833  841442.0     ATM         0.0  0.0  0.5    0.5  156487652.0\n",
       "1038834  841442.0   CDK12         0.0  0.0  0.5    0.5  156487652.0\n",
       "1038835  841442.0  RAD51C         0.0  0.0  0.5    0.5  156487652.0\n",
       "\n",
       "[621767 rows x 7 columns]"
      ]
     },
     "execution_count": 3,
     "metadata": {},
     "output_type": "execute_result"
    }
   ],
   "source": [
    "genes = pd.read_csv(\"../data/genes.csv\").T\n",
    "dti = pd.read_csv(\"../../DTI-quantification/data/drug_gene_score.csv.gz\")\n",
    "dti = dti[dti.gene.isin(list(genes.index))]\n",
    "dti"
   ]
  },
  {
   "cell_type": "code",
   "execution_count": 4,
   "id": "7ab9ba7e",
   "metadata": {},
   "outputs": [
    {
     "name": "stdout",
     "output_type": "stream",
     "text": [
      "unique cells:  60\n",
      "unique nscs:  3897\n"
     ]
    }
   ],
   "source": [
    "# Get unique CELL_NAME and NSC\n",
    "unique_cells = df[\"CELL_NAME_nci\"].unique()\n",
    "unique_nscs = df[\"NSC\"].unique()\n",
    "\n",
    "print(\"unique cells: \", len(unique_cells))\n",
    "print(\"unique nscs: \", len(unique_nscs))"
   ]
  },
  {
   "cell_type": "code",
   "execution_count": 5,
   "id": "afa026ca",
   "metadata": {
    "scrolled": true
   },
   "outputs": [],
   "source": [
    "np.random.seed(42)\n",
    "train_cells = np.random.choice(\n",
    "    unique_cells, size=int(len(unique_cells) * 0.7), replace=False\n",
    ")\n",
    "test_cells = np.setdiff1d(unique_cells, train_cells)\n",
    "\n",
    "train_nscs = np.random.choice(\n",
    "    unique_nscs, size=int(len(unique_nscs) * 0.6), replace=False\n",
    ")\n",
    "test_nscs = np.setdiff1d(unique_nscs, train_nscs)"
   ]
  },
  {
   "cell_type": "code",
   "execution_count": 6,
   "id": "58ebcf9b",
   "metadata": {
    "scrolled": true
   },
   "outputs": [],
   "source": [
    "train = df[df.NSC.isin(train_nscs) & df.CELL_NAME_nci.isin(train_cells)]\n",
    "test = df[df.NSC.isin(test_nscs) & df.CELL_NAME_nci.isin(test_cells)]\n",
    "\n",
    "train = train.sample(frac=1, random_state=42)\n",
    "test = test.sample(frac=1, random_state=42)\n",
    "\n",
    "val_size = int(len(train) * 0.2)\n",
    "val = train.sample(n=val_size, random_state=42)\n",
    "train = train.drop(val.index)"
   ]
  },
  {
   "cell_type": "code",
   "execution_count": 7,
   "id": "8d10c5f5",
   "metadata": {
    "scrolled": true
   },
   "outputs": [
    {
     "name": "stdout",
     "output_type": "stream",
     "text": [
      "# of data:  74457\n",
      "unique cells:  42\n",
      "unique nscs:  2338\n"
     ]
    }
   ],
   "source": [
    "# Get unique CELL_NAME and NSC\n",
    "train_unique_cells = train[\"CELL_NAME_nci\"].unique()\n",
    "train_unique_nscs = train[\"NSC\"].unique()\n",
    "\n",
    "print(\"# of data: \", len(train))\n",
    "print(\"unique cells: \", len(train_unique_cells))\n",
    "print(\"unique nscs: \", len(train_unique_nscs))"
   ]
  },
  {
   "cell_type": "code",
   "execution_count": 8,
   "id": "5fb130b1",
   "metadata": {},
   "outputs": [
    {
     "name": "stdout",
     "output_type": "stream",
     "text": [
      "# of data:  18614\n",
      "unique cells:  42\n",
      "unique nscs:  2337\n"
     ]
    }
   ],
   "source": [
    "# Get unique CELL_NAME and NSC\n",
    "val_unique_cells = val[\"CELL_NAME_nci\"].unique()\n",
    "val_unique_nscs = val[\"NSC\"].unique()\n",
    "\n",
    "print(\"# of data: \", len(val))\n",
    "print(\"unique cells: \", len(val_unique_cells))\n",
    "print(\"unique nscs: \", len(val_unique_nscs))"
   ]
  },
  {
   "cell_type": "code",
   "execution_count": 9,
   "id": "bea0dc43",
   "metadata": {},
   "outputs": [
    {
     "name": "stdout",
     "output_type": "stream",
     "text": [
      "# of data:  25861\n",
      "unique cells:  18\n",
      "unique nscs:  1558\n"
     ]
    }
   ],
   "source": [
    "# Get unique CELL_NAME and NSC\n",
    "test_unique_cells = test[\"CELL_NAME_nci\"].unique()\n",
    "test_unique_nscs = test[\"NSC\"].unique()\n",
    "\n",
    "print(\"# of data: \", len(test))\n",
    "print(\"unique cells: \", len(test_unique_cells))\n",
    "print(\"unique nscs: \", len(test_unique_nscs))"
   ]
  },
  {
   "cell_type": "code",
   "execution_count": 10,
   "id": "a94aaa57",
   "metadata": {},
   "outputs": [
    {
     "name": "stdout",
     "output_type": "stream",
     "text": [
      "Total data size: 220004\n",
      "Train data size: 74457\n",
      "Validation data size: 18614\n",
      "Test data size: 25861\n"
     ]
    }
   ],
   "source": [
    "print(f\"Total data size: {len(df)}\")\n",
    "print(f\"Train data size: {len(train)}\")\n",
    "print(f\"Validation data size: {len(val)}\")\n",
    "print(f\"Test data size: {len(test)}\")"
   ]
  },
  {
   "cell_type": "code",
   "execution_count": 11,
   "id": "7e0490c2",
   "metadata": {},
   "outputs": [
    {
     "name": "stdout",
     "output_type": "stream",
     "text": [
      "\n",
      "Train set:\n",
      "Number of unique NSCs: 2338\n",
      "Number of unique CELL_NAMEs: 42\n",
      "\n",
      "Validation set:\n",
      "Number of unique NSCs: 2337\n",
      "Number of unique CELL_NAMEs: 42\n",
      "\n",
      "Test set:\n",
      "Number of unique NSCs: 1558\n",
      "Number of unique CELL_NAMEs: 18\n"
     ]
    }
   ],
   "source": [
    "# Check the number of unique NSCs and CELL_NAMEs for each set\n",
    "for name, dataset in [(\"Train\", train), (\"Validation\", val), (\"Test\", test)]:\n",
    "    print(f\"\\n{name} set:\")\n",
    "    print(f\"Number of unique NSCs: {dataset['NSC'].nunique()}\")\n",
    "    print(f\"Number of unique CELL_NAMEs: {dataset['CELL_NAME_nci'].nunique()}\")"
   ]
  },
  {
   "cell_type": "code",
   "execution_count": 12,
   "id": "85fab36f",
   "metadata": {},
   "outputs": [
    {
     "name": "stdout",
     "output_type": "stream",
     "text": [
      "\n",
      "Overlap check:\n",
      "NSC overlap between train and test: 0\n",
      "CELL_NAME overlap between train and test: 0\n"
     ]
    }
   ],
   "source": [
    "# Check for overlaps\n",
    "train_nscs = set(train[\"NSC\"])\n",
    "train_cells = set(train[\"CELL_NAME_nci\"])\n",
    "test_nscs = set(test[\"NSC\"])\n",
    "test_cells = set(test[\"CELL_NAME_nci\"])\n",
    "\n",
    "print(\"\\nOverlap check:\")\n",
    "print(f\"NSC overlap between train and test: {len(train_nscs.intersection(test_nscs))}\")\n",
    "print(\n",
    "    f\"CELL_NAME overlap between train and test: {len(train_cells.intersection(test_cells))}\"\n",
    ")"
   ]
  },
  {
   "cell_type": "code",
   "execution_count": 13,
   "id": "ed7be766",
   "metadata": {},
   "outputs": [],
   "source": [
    "y_train = list(train[\"HI_CONCENTRATION\"])\n",
    "y_val = list(val[\"HI_CONCENTRATION\"])\n",
    "y_test = list(test[\"HI_CONCENTRATION\"])\n",
    "\n",
    "X_train = train.drop(\"HI_CONCENTRATION\", axis=1)\n",
    "X_val = val.drop(\"HI_CONCENTRATION\", axis=1)\n",
    "X_test = test.drop(\"HI_CONCENTRATION\", axis=1)"
   ]
  },
  {
   "cell_type": "code",
   "execution_count": 14,
   "id": "7957b2bf",
   "metadata": {
    "scrolled": true
   },
   "outputs": [],
   "source": [
    "X_train.to_csv(\"../data/train_IC50.csv\", index=False)\n",
    "X_test.to_csv(\"../data/test_IC50.csv\", index=False)\n",
    "X_val.to_csv(\"../data/val_IC50.csv\", index=False)\n",
    "\n",
    "np.save(\"../data/train_IC50_labels.npy\", y_train)\n",
    "np.save(\"../data/test_IC50_labels.npy\", y_test)\n",
    "np.save(\"../data/val_IC50_labels.npy\", y_val)"
   ]
  },
  {
   "cell_type": "code",
   "execution_count": null,
   "id": "4be24ef5",
   "metadata": {},
   "outputs": [],
   "source": []
  }
 ],
 "metadata": {
  "kernelspec": {
   "display_name": "torch",
   "language": "python",
   "name": "torch"
  },
  "language_info": {
   "codemirror_mode": {
    "name": "ipython",
    "version": 3
   },
   "file_extension": ".py",
   "mimetype": "text/x-python",
   "name": "python",
   "nbconvert_exporter": "python",
   "pygments_lexer": "ipython3",
   "version": "3.11.9"
  }
 },
 "nbformat": 4,
 "nbformat_minor": 5
}
